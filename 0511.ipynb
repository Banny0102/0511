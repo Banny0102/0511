{
  "nbformat": 4,
  "nbformat_minor": 0,
  "metadata": {
    "colab": {
      "name": "0511.ipynb",
      "provenance": [],
      "authorship_tag": "ABX9TyM9nA3ayrALr6pL7S4HEEGK",
      "include_colab_link": true
    },
    "kernelspec": {
      "name": "python3",
      "display_name": "Python 3"
    },
    "language_info": {
      "name": "python"
    }
  },
  "cells": [
    {
      "cell_type": "markdown",
      "metadata": {
        "id": "view-in-github",
        "colab_type": "text"
      },
      "source": [
        "<a href=\"https://colab.research.google.com/github/Banny0102/0511/blob/main/0511.ipynb\" target=\"_parent\"><img src=\"https://colab.research.google.com/assets/colab-badge.svg\" alt=\"Open In Colab\"/></a>"
      ]
    },
    {
      "cell_type": "code",
      "execution_count": 1,
      "metadata": {
        "colab": {
          "base_uri": "https://localhost:8080/"
        },
        "id": "dVvmFNKlMray",
        "outputId": "bf2674f9-6c46-4b9e-dfb7-0a42f80fa3ec"
      },
      "outputs": [
        {
          "output_type": "stream",
          "name": "stdout",
          "text": [
            "請輸入體溫38\n",
            "體溫異常，請重新測量!\n"
          ]
        }
      ],
      "source": [
        "temp=float(input('請輸入體溫'))\n",
        "if temp>37 and temp<37.4:\n",
        "  print('體溫略高!')\n",
        "elif temp>=34 and temp<37:\n",
        "  print('體溫正常!')\n",
        "else:\n",
        "  print('體溫異常，請重新測量!') "
      ]
    },
    {
      "cell_type": "code",
      "source": [
        "money=int(input('請輸入金額'))\n",
        "if(money>=100000):\n",
        "  if(money>=100000):\n",
        "    print('打八折',money*0.8,end='元\\n')\n",
        "  elif(money>=50000 and money<=100000):\n",
        "    print('打八五折',money*0.85,end='元\\n')\n",
        "  elif(money>=30000 and money<=50000):\n",
        "    print('打九折',money*0.9,end='元\\n')\n",
        "  else:\n",
        "    print('打九五折',money*0.95,end='元\\n')   \n",
        "else:\n",
        "  print('沒有打折',money,end='元\\n')    "
      ],
      "metadata": {
        "colab": {
          "base_uri": "https://localhost:8080/"
        },
        "id": "-BSzumUZPJuV",
        "outputId": "1d93f68c-0d1f-4031-b2dd-71f07e3dc7f2"
      },
      "execution_count": 4,
      "outputs": [
        {
          "output_type": "stream",
          "name": "stdout",
          "text": [
            "請輸入金額500000\n",
            "打八折 400000.0元\n"
          ]
        }
      ]
    },
    {
      "cell_type": "code",
      "source": [
        "score=int(input('請輸入成績'))\n",
        "if score>=0 and score<=100:\n",
        "  if score>=90:\n",
        "    print('A')\n",
        "  elif score>=80 and score<=89:\n",
        "    print('B')\n",
        "  elif score>=70 and score<=89:\n",
        "    print('C')\n",
        "  elif score>=60 and score<=69:\n",
        "    print('D')\n",
        "  else:\n",
        "    print('E')\n",
        "else:\n",
        "  print('你作弊!!!!!!!')  "
      ],
      "metadata": {
        "colab": {
          "base_uri": "https://localhost:8080/"
        },
        "id": "HbFfD-71RaZ0",
        "outputId": "d7e0e2c9-72a5-47a4-ced7-b23d771869ce"
      },
      "execution_count": 5,
      "outputs": [
        {
          "output_type": "stream",
          "name": "stdout",
          "text": [
            "請輸入成績59\n",
            "E\n"
          ]
        }
      ]
    },
    {
      "cell_type": "code",
      "source": [
        "month=int(input('請輸入月份'))\n",
        "if month==3 or month==4 or month==5:\n",
        "  print(month,'月是春天!')\n",
        "elif month==6 or month==7 or month==8:\n",
        "  print(month,'月是夏天!')\n",
        "elif month==9 or month==10 or month==11:\n",
        "  print(month,'月是秋天!')\n",
        "elif month==12 or month==1 or month==2:\n",
        "  print(month,'月是冬天!')\n",
        "else:\n",
        "  print('月份不在範圍內!')"
      ],
      "metadata": {
        "colab": {
          "base_uri": "https://localhost:8080/"
        },
        "id": "L4M8fvbvUz4L",
        "outputId": "d70677b7-3539-4d14-8c41-6158557195c2"
      },
      "execution_count": 6,
      "outputs": [
        {
          "output_type": "stream",
          "name": "stdout",
          "text": [
            "請輸入月份89\n",
            "月份不在範圍內!\n"
          ]
        }
      ]
    },
    {
      "cell_type": "code",
      "source": [
        "income=int(input('請輸入今年收入淨額'))\n",
        "if income>=2000000:\n",
        "  print('賦稅金額:',income*0.3,end='元\\n')\n",
        "elif income>=1000000 and income<2000000:\n",
        "  print('賦稅金額:',income*0.21,end='元\\n')\n",
        "elif income>=600000 and income<1000000:\n",
        "  print('賦稅金額:',income*0.13,end='元\\n')\n",
        "elif income>=300000 and income<600000:\n",
        "  print('賦稅金額:',income*0.06,end='元\\n')\n",
        "else:\n",
        "  print('賦稅金額:0元')"
      ],
      "metadata": {
        "colab": {
          "base_uri": "https://localhost:8080/"
        },
        "id": "YnZajp2AW6td",
        "outputId": "83d6b22c-634f-4f7e-afe4-1fb39540f34e"
      },
      "execution_count": 7,
      "outputs": [
        {
          "output_type": "stream",
          "name": "stdout",
          "text": [
            "請輸入今年收入淨額6900000000\n",
            "賦稅金額: 2070000000.0元\n"
          ]
        }
      ]
    }
  ]
}